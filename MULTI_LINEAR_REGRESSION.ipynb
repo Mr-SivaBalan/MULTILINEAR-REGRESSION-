{
  "nbformat": 4,
  "nbformat_minor": 0,
  "metadata": {
    "colab": {
      "name": "MULTI-LINEAR-REGRESSION.ipynb",
      "provenance": [],
      "collapsed_sections": []
    },
    "kernelspec": {
      "name": "python3",
      "display_name": "Python 3"
    },
    "language_info": {
      "name": "python"
    }
  },
  "cells": [
    {
      "cell_type": "code",
      "execution_count": 3,
      "metadata": {
        "id": "Si4ncZM1N5sX"
      },
      "outputs": [],
      "source": [
        "import pandas as pd\n",
        "import numpy as np"
      ]
    },
    {
      "cell_type": "code",
      "source": [
        "df = pd.read_csv('/content/hiring.csv')\n",
        "df.head()"
      ],
      "metadata": {
        "colab": {
          "base_uri": "https://localhost:8080/",
          "height": 206
        },
        "id": "mDPnu_gDN9-7",
        "outputId": "e415ba63-85d9-43bf-c43a-cecc3a27d58f"
      },
      "execution_count": 4,
      "outputs": [
        {
          "output_type": "execute_result",
          "data": {
            "text/plain": [
              "  experience  test_score(out of 10)  interview_score(out of 10)  salary($)\n",
              "0        NaN                    8.0                           9      50000\n",
              "1        NaN                    8.0                           6      45000\n",
              "2       five                    6.0                           7      60000\n",
              "3        two                   10.0                          10      65000\n",
              "4      seven                    9.0                           6      70000"
            ],
            "text/html": [
              "\n",
              "  <div id=\"df-2814453f-a2e5-4aa5-98ee-247c21f10592\">\n",
              "    <div class=\"colab-df-container\">\n",
              "      <div>\n",
              "<style scoped>\n",
              "    .dataframe tbody tr th:only-of-type {\n",
              "        vertical-align: middle;\n",
              "    }\n",
              "\n",
              "    .dataframe tbody tr th {\n",
              "        vertical-align: top;\n",
              "    }\n",
              "\n",
              "    .dataframe thead th {\n",
              "        text-align: right;\n",
              "    }\n",
              "</style>\n",
              "<table border=\"1\" class=\"dataframe\">\n",
              "  <thead>\n",
              "    <tr style=\"text-align: right;\">\n",
              "      <th></th>\n",
              "      <th>experience</th>\n",
              "      <th>test_score(out of 10)</th>\n",
              "      <th>interview_score(out of 10)</th>\n",
              "      <th>salary($)</th>\n",
              "    </tr>\n",
              "  </thead>\n",
              "  <tbody>\n",
              "    <tr>\n",
              "      <th>0</th>\n",
              "      <td>NaN</td>\n",
              "      <td>8.0</td>\n",
              "      <td>9</td>\n",
              "      <td>50000</td>\n",
              "    </tr>\n",
              "    <tr>\n",
              "      <th>1</th>\n",
              "      <td>NaN</td>\n",
              "      <td>8.0</td>\n",
              "      <td>6</td>\n",
              "      <td>45000</td>\n",
              "    </tr>\n",
              "    <tr>\n",
              "      <th>2</th>\n",
              "      <td>five</td>\n",
              "      <td>6.0</td>\n",
              "      <td>7</td>\n",
              "      <td>60000</td>\n",
              "    </tr>\n",
              "    <tr>\n",
              "      <th>3</th>\n",
              "      <td>two</td>\n",
              "      <td>10.0</td>\n",
              "      <td>10</td>\n",
              "      <td>65000</td>\n",
              "    </tr>\n",
              "    <tr>\n",
              "      <th>4</th>\n",
              "      <td>seven</td>\n",
              "      <td>9.0</td>\n",
              "      <td>6</td>\n",
              "      <td>70000</td>\n",
              "    </tr>\n",
              "  </tbody>\n",
              "</table>\n",
              "</div>\n",
              "      <button class=\"colab-df-convert\" onclick=\"convertToInteractive('df-2814453f-a2e5-4aa5-98ee-247c21f10592')\"\n",
              "              title=\"Convert this dataframe to an interactive table.\"\n",
              "              style=\"display:none;\">\n",
              "        \n",
              "  <svg xmlns=\"http://www.w3.org/2000/svg\" height=\"24px\"viewBox=\"0 0 24 24\"\n",
              "       width=\"24px\">\n",
              "    <path d=\"M0 0h24v24H0V0z\" fill=\"none\"/>\n",
              "    <path d=\"M18.56 5.44l.94 2.06.94-2.06 2.06-.94-2.06-.94-.94-2.06-.94 2.06-2.06.94zm-11 1L8.5 8.5l.94-2.06 2.06-.94-2.06-.94L8.5 2.5l-.94 2.06-2.06.94zm10 10l.94 2.06.94-2.06 2.06-.94-2.06-.94-.94-2.06-.94 2.06-2.06.94z\"/><path d=\"M17.41 7.96l-1.37-1.37c-.4-.4-.92-.59-1.43-.59-.52 0-1.04.2-1.43.59L10.3 9.45l-7.72 7.72c-.78.78-.78 2.05 0 2.83L4 21.41c.39.39.9.59 1.41.59.51 0 1.02-.2 1.41-.59l7.78-7.78 2.81-2.81c.8-.78.8-2.07 0-2.86zM5.41 20L4 18.59l7.72-7.72 1.47 1.35L5.41 20z\"/>\n",
              "  </svg>\n",
              "      </button>\n",
              "      \n",
              "  <style>\n",
              "    .colab-df-container {\n",
              "      display:flex;\n",
              "      flex-wrap:wrap;\n",
              "      gap: 12px;\n",
              "    }\n",
              "\n",
              "    .colab-df-convert {\n",
              "      background-color: #E8F0FE;\n",
              "      border: none;\n",
              "      border-radius: 50%;\n",
              "      cursor: pointer;\n",
              "      display: none;\n",
              "      fill: #1967D2;\n",
              "      height: 32px;\n",
              "      padding: 0 0 0 0;\n",
              "      width: 32px;\n",
              "    }\n",
              "\n",
              "    .colab-df-convert:hover {\n",
              "      background-color: #E2EBFA;\n",
              "      box-shadow: 0px 1px 2px rgba(60, 64, 67, 0.3), 0px 1px 3px 1px rgba(60, 64, 67, 0.15);\n",
              "      fill: #174EA6;\n",
              "    }\n",
              "\n",
              "    [theme=dark] .colab-df-convert {\n",
              "      background-color: #3B4455;\n",
              "      fill: #D2E3FC;\n",
              "    }\n",
              "\n",
              "    [theme=dark] .colab-df-convert:hover {\n",
              "      background-color: #434B5C;\n",
              "      box-shadow: 0px 1px 3px 1px rgba(0, 0, 0, 0.15);\n",
              "      filter: drop-shadow(0px 1px 2px rgba(0, 0, 0, 0.3));\n",
              "      fill: #FFFFFF;\n",
              "    }\n",
              "  </style>\n",
              "\n",
              "      <script>\n",
              "        const buttonEl =\n",
              "          document.querySelector('#df-2814453f-a2e5-4aa5-98ee-247c21f10592 button.colab-df-convert');\n",
              "        buttonEl.style.display =\n",
              "          google.colab.kernel.accessAllowed ? 'block' : 'none';\n",
              "\n",
              "        async function convertToInteractive(key) {\n",
              "          const element = document.querySelector('#df-2814453f-a2e5-4aa5-98ee-247c21f10592');\n",
              "          const dataTable =\n",
              "            await google.colab.kernel.invokeFunction('convertToInteractive',\n",
              "                                                     [key], {});\n",
              "          if (!dataTable) return;\n",
              "\n",
              "          const docLinkHtml = 'Like what you see? Visit the ' +\n",
              "            '<a target=\"_blank\" href=https://colab.research.google.com/notebooks/data_table.ipynb>data table notebook</a>'\n",
              "            + ' to learn more about interactive tables.';\n",
              "          element.innerHTML = '';\n",
              "          dataTable['output_type'] = 'display_data';\n",
              "          await google.colab.output.renderOutput(dataTable, element);\n",
              "          const docLink = document.createElement('div');\n",
              "          docLink.innerHTML = docLinkHtml;\n",
              "          element.appendChild(docLink);\n",
              "        }\n",
              "      </script>\n",
              "    </div>\n",
              "  </div>\n",
              "  "
            ]
          },
          "metadata": {},
          "execution_count": 4
        }
      ]
    },
    {
      "cell_type": "code",
      "source": [
        "df.shape"
      ],
      "metadata": {
        "colab": {
          "base_uri": "https://localhost:8080/"
        },
        "id": "mNDslovydPlH",
        "outputId": "85579a17-34b4-43eb-a2df-0a7e64294b86"
      },
      "execution_count": 6,
      "outputs": [
        {
          "output_type": "execute_result",
          "data": {
            "text/plain": [
              "(8, 4)"
            ]
          },
          "metadata": {},
          "execution_count": 6
        }
      ]
    },
    {
      "cell_type": "code",
      "source": [
        "df.describe()"
      ],
      "metadata": {
        "colab": {
          "base_uri": "https://localhost:8080/",
          "height": 300
        },
        "id": "E0vUSBqcdVZr",
        "outputId": "c4ba1a5b-3ae4-4980-d3ad-aea177b95806"
      },
      "execution_count": 7,
      "outputs": [
        {
          "output_type": "execute_result",
          "data": {
            "text/plain": [
              "       test_score(out of 10)  interview_score(out of 10)    salary($)\n",
              "count               7.000000                    8.000000      8.00000\n",
              "mean                7.857143                    7.875000  63000.00000\n",
              "std                 1.345185                    1.642081  11501.55269\n",
              "min                 6.000000                    6.000000  45000.00000\n",
              "25%                 7.000000                    6.750000  57500.00000\n",
              "50%                 8.000000                    7.500000  63500.00000\n",
              "75%                 8.500000                    9.250000  70500.00000\n",
              "max                10.000000                   10.000000  80000.00000"
            ],
            "text/html": [
              "\n",
              "  <div id=\"df-b94291d6-b178-4af3-a8a5-ba084f3c73bb\">\n",
              "    <div class=\"colab-df-container\">\n",
              "      <div>\n",
              "<style scoped>\n",
              "    .dataframe tbody tr th:only-of-type {\n",
              "        vertical-align: middle;\n",
              "    }\n",
              "\n",
              "    .dataframe tbody tr th {\n",
              "        vertical-align: top;\n",
              "    }\n",
              "\n",
              "    .dataframe thead th {\n",
              "        text-align: right;\n",
              "    }\n",
              "</style>\n",
              "<table border=\"1\" class=\"dataframe\">\n",
              "  <thead>\n",
              "    <tr style=\"text-align: right;\">\n",
              "      <th></th>\n",
              "      <th>test_score(out of 10)</th>\n",
              "      <th>interview_score(out of 10)</th>\n",
              "      <th>salary($)</th>\n",
              "    </tr>\n",
              "  </thead>\n",
              "  <tbody>\n",
              "    <tr>\n",
              "      <th>count</th>\n",
              "      <td>7.000000</td>\n",
              "      <td>8.000000</td>\n",
              "      <td>8.00000</td>\n",
              "    </tr>\n",
              "    <tr>\n",
              "      <th>mean</th>\n",
              "      <td>7.857143</td>\n",
              "      <td>7.875000</td>\n",
              "      <td>63000.00000</td>\n",
              "    </tr>\n",
              "    <tr>\n",
              "      <th>std</th>\n",
              "      <td>1.345185</td>\n",
              "      <td>1.642081</td>\n",
              "      <td>11501.55269</td>\n",
              "    </tr>\n",
              "    <tr>\n",
              "      <th>min</th>\n",
              "      <td>6.000000</td>\n",
              "      <td>6.000000</td>\n",
              "      <td>45000.00000</td>\n",
              "    </tr>\n",
              "    <tr>\n",
              "      <th>25%</th>\n",
              "      <td>7.000000</td>\n",
              "      <td>6.750000</td>\n",
              "      <td>57500.00000</td>\n",
              "    </tr>\n",
              "    <tr>\n",
              "      <th>50%</th>\n",
              "      <td>8.000000</td>\n",
              "      <td>7.500000</td>\n",
              "      <td>63500.00000</td>\n",
              "    </tr>\n",
              "    <tr>\n",
              "      <th>75%</th>\n",
              "      <td>8.500000</td>\n",
              "      <td>9.250000</td>\n",
              "      <td>70500.00000</td>\n",
              "    </tr>\n",
              "    <tr>\n",
              "      <th>max</th>\n",
              "      <td>10.000000</td>\n",
              "      <td>10.000000</td>\n",
              "      <td>80000.00000</td>\n",
              "    </tr>\n",
              "  </tbody>\n",
              "</table>\n",
              "</div>\n",
              "      <button class=\"colab-df-convert\" onclick=\"convertToInteractive('df-b94291d6-b178-4af3-a8a5-ba084f3c73bb')\"\n",
              "              title=\"Convert this dataframe to an interactive table.\"\n",
              "              style=\"display:none;\">\n",
              "        \n",
              "  <svg xmlns=\"http://www.w3.org/2000/svg\" height=\"24px\"viewBox=\"0 0 24 24\"\n",
              "       width=\"24px\">\n",
              "    <path d=\"M0 0h24v24H0V0z\" fill=\"none\"/>\n",
              "    <path d=\"M18.56 5.44l.94 2.06.94-2.06 2.06-.94-2.06-.94-.94-2.06-.94 2.06-2.06.94zm-11 1L8.5 8.5l.94-2.06 2.06-.94-2.06-.94L8.5 2.5l-.94 2.06-2.06.94zm10 10l.94 2.06.94-2.06 2.06-.94-2.06-.94-.94-2.06-.94 2.06-2.06.94z\"/><path d=\"M17.41 7.96l-1.37-1.37c-.4-.4-.92-.59-1.43-.59-.52 0-1.04.2-1.43.59L10.3 9.45l-7.72 7.72c-.78.78-.78 2.05 0 2.83L4 21.41c.39.39.9.59 1.41.59.51 0 1.02-.2 1.41-.59l7.78-7.78 2.81-2.81c.8-.78.8-2.07 0-2.86zM5.41 20L4 18.59l7.72-7.72 1.47 1.35L5.41 20z\"/>\n",
              "  </svg>\n",
              "      </button>\n",
              "      \n",
              "  <style>\n",
              "    .colab-df-container {\n",
              "      display:flex;\n",
              "      flex-wrap:wrap;\n",
              "      gap: 12px;\n",
              "    }\n",
              "\n",
              "    .colab-df-convert {\n",
              "      background-color: #E8F0FE;\n",
              "      border: none;\n",
              "      border-radius: 50%;\n",
              "      cursor: pointer;\n",
              "      display: none;\n",
              "      fill: #1967D2;\n",
              "      height: 32px;\n",
              "      padding: 0 0 0 0;\n",
              "      width: 32px;\n",
              "    }\n",
              "\n",
              "    .colab-df-convert:hover {\n",
              "      background-color: #E2EBFA;\n",
              "      box-shadow: 0px 1px 2px rgba(60, 64, 67, 0.3), 0px 1px 3px 1px rgba(60, 64, 67, 0.15);\n",
              "      fill: #174EA6;\n",
              "    }\n",
              "\n",
              "    [theme=dark] .colab-df-convert {\n",
              "      background-color: #3B4455;\n",
              "      fill: #D2E3FC;\n",
              "    }\n",
              "\n",
              "    [theme=dark] .colab-df-convert:hover {\n",
              "      background-color: #434B5C;\n",
              "      box-shadow: 0px 1px 3px 1px rgba(0, 0, 0, 0.15);\n",
              "      filter: drop-shadow(0px 1px 2px rgba(0, 0, 0, 0.3));\n",
              "      fill: #FFFFFF;\n",
              "    }\n",
              "  </style>\n",
              "\n",
              "      <script>\n",
              "        const buttonEl =\n",
              "          document.querySelector('#df-b94291d6-b178-4af3-a8a5-ba084f3c73bb button.colab-df-convert');\n",
              "        buttonEl.style.display =\n",
              "          google.colab.kernel.accessAllowed ? 'block' : 'none';\n",
              "\n",
              "        async function convertToInteractive(key) {\n",
              "          const element = document.querySelector('#df-b94291d6-b178-4af3-a8a5-ba084f3c73bb');\n",
              "          const dataTable =\n",
              "            await google.colab.kernel.invokeFunction('convertToInteractive',\n",
              "                                                     [key], {});\n",
              "          if (!dataTable) return;\n",
              "\n",
              "          const docLinkHtml = 'Like what you see? Visit the ' +\n",
              "            '<a target=\"_blank\" href=https://colab.research.google.com/notebooks/data_table.ipynb>data table notebook</a>'\n",
              "            + ' to learn more about interactive tables.';\n",
              "          element.innerHTML = '';\n",
              "          dataTable['output_type'] = 'display_data';\n",
              "          await google.colab.output.renderOutput(dataTable, element);\n",
              "          const docLink = document.createElement('div');\n",
              "          docLink.innerHTML = docLinkHtml;\n",
              "          element.appendChild(docLink);\n",
              "        }\n",
              "      </script>\n",
              "    </div>\n",
              "  </div>\n",
              "  "
            ]
          },
          "metadata": {},
          "execution_count": 7
        }
      ]
    },
    {
      "cell_type": "code",
      "source": [
        "df.info()"
      ],
      "metadata": {
        "colab": {
          "base_uri": "https://localhost:8080/"
        },
        "id": "RMf81klidZiW",
        "outputId": "8d3e8aa5-ffd5-48d7-c25f-90eb9c48af85"
      },
      "execution_count": 8,
      "outputs": [
        {
          "output_type": "stream",
          "name": "stdout",
          "text": [
            "<class 'pandas.core.frame.DataFrame'>\n",
            "RangeIndex: 8 entries, 0 to 7\n",
            "Data columns (total 4 columns):\n",
            " #   Column                      Non-Null Count  Dtype  \n",
            "---  ------                      --------------  -----  \n",
            " 0   experience                  6 non-null      object \n",
            " 1   test_score(out of 10)       7 non-null      float64\n",
            " 2   interview_score(out of 10)  8 non-null      int64  \n",
            " 3   salary($)                   8 non-null      int64  \n",
            "dtypes: float64(1), int64(2), object(1)\n",
            "memory usage: 384.0+ bytes\n"
          ]
        }
      ]
    },
    {
      "cell_type": "code",
      "source": [
        "df['experience'].isna().sum()  # to check the number of nan in experience column"
      ],
      "metadata": {
        "colab": {
          "base_uri": "https://localhost:8080/"
        },
        "id": "zkdeTx7ydnDw",
        "outputId": "55882771-a7d3-44c7-d598-67607d0c8f5b"
      },
      "execution_count": 9,
      "outputs": [
        {
          "output_type": "execute_result",
          "data": {
            "text/plain": [
              "2"
            ]
          },
          "metadata": {},
          "execution_count": 9
        }
      ]
    },
    {
      "cell_type": "code",
      "source": [
        "#fill the nan values of experience to zero\n",
        "#df.experience = df.experience.fillna('zero')\n",
        "df['experience'] = df['experience'].fillna('Zero')\n",
        "\n",
        "df['experience']\n"
      ],
      "metadata": {
        "colab": {
          "base_uri": "https://localhost:8080/"
        },
        "id": "O7qzaAPSepJs",
        "outputId": "d4d5ecb9-4234-4484-a199-0af51f981bd4"
      },
      "execution_count": 10,
      "outputs": [
        {
          "output_type": "execute_result",
          "data": {
            "text/plain": [
              "0      Zero\n",
              "1      Zero\n",
              "2      five\n",
              "3       two\n",
              "4     seven\n",
              "5     three\n",
              "6       ten\n",
              "7    eleven\n",
              "Name: experience, dtype: object"
            ]
          },
          "metadata": {},
          "execution_count": 10
        }
      ]
    },
    {
      "cell_type": "code",
      "source": [
        "type(df['experience'])"
      ],
      "metadata": {
        "colab": {
          "base_uri": "https://localhost:8080/"
        },
        "id": "uRfAlgTL0SVs",
        "outputId": "9bb3195e-854f-468a-9c3c-dd03949b854b"
      },
      "execution_count": 11,
      "outputs": [
        {
          "output_type": "execute_result",
          "data": {
            "text/plain": [
              "pandas.core.series.Series"
            ]
          },
          "metadata": {},
          "execution_count": 11
        }
      ]
    },
    {
      "cell_type": "code",
      "source": [
        "#fill the nan value of test score as a median value or mean value\n",
        "\n",
        "df['test_score(out of 10)'].fillna(value=df['test_score(out of 10)'].median(), inplace=True)"
      ],
      "metadata": {
        "id": "ZSQe1bldf15j"
      },
      "execution_count": 12,
      "outputs": []
    },
    {
      "cell_type": "code",
      "source": [
        "# again check the dataset for nay null value\n",
        "df.info()"
      ],
      "metadata": {
        "colab": {
          "base_uri": "https://localhost:8080/"
        },
        "id": "igNIcFOGhpdD",
        "outputId": "d2eb6f61-f481-44dd-f0fd-a1457a63bd98"
      },
      "execution_count": 13,
      "outputs": [
        {
          "output_type": "stream",
          "name": "stdout",
          "text": [
            "<class 'pandas.core.frame.DataFrame'>\n",
            "RangeIndex: 8 entries, 0 to 7\n",
            "Data columns (total 4 columns):\n",
            " #   Column                      Non-Null Count  Dtype  \n",
            "---  ------                      --------------  -----  \n",
            " 0   experience                  8 non-null      object \n",
            " 1   test_score(out of 10)       8 non-null      float64\n",
            " 2   interview_score(out of 10)  8 non-null      int64  \n",
            " 3   salary($)                   8 non-null      int64  \n",
            "dtypes: float64(1), int64(2), object(1)\n",
            "memory usage: 384.0+ bytes\n"
          ]
        }
      ]
    },
    {
      "cell_type": "code",
      "source": [
        "!pip install  word2number  # install word2number package"
      ],
      "metadata": {
        "colab": {
          "base_uri": "https://localhost:8080/"
        },
        "id": "Ksk2rK9jkE3u",
        "outputId": "3292a44d-8d09-42d3-989e-70aa001c3dd6"
      },
      "execution_count": 14,
      "outputs": [
        {
          "output_type": "stream",
          "name": "stdout",
          "text": [
            "Collecting word2number\n",
            "  Downloading word2number-1.1.zip (9.7 kB)\n",
            "Building wheels for collected packages: word2number\n",
            "  Building wheel for word2number (setup.py) ... \u001b[?25l\u001b[?25hdone\n",
            "  Created wheel for word2number: filename=word2number-1.1-py3-none-any.whl size=5582 sha256=6333bfae97770fe4c5558bccd5295a1d26fe76937c6426018fd0a63882de7863\n",
            "  Stored in directory: /root/.cache/pip/wheels/4b/c3/77/a5f48aeb0d3efb7cd5ad61cbd3da30bbf9ffc9662b07c9f879\n",
            "Successfully built word2number\n",
            "Installing collected packages: word2number\n",
            "Successfully installed word2number-1.1\n"
          ]
        }
      ]
    },
    {
      "cell_type": "code",
      "source": [
        "\n",
        "# experience column have number in text , convert into numericals\n",
        "from word2number import w2n\n",
        "\n",
        "#res = w2n.word_to_num('one')\n",
        "#res\n",
        "#df.experience = df.experience.apply(w2n.word_to_num)       # can be done this way also\n",
        "\n",
        "df['experience'] = df['experience'].apply(w2n.word_to_num)\n"
      ],
      "metadata": {
        "id": "KZo-eKPIizC5"
      },
      "execution_count": 15,
      "outputs": []
    },
    {
      "cell_type": "code",
      "source": [
        "df"
      ],
      "metadata": {
        "colab": {
          "base_uri": "https://localhost:8080/",
          "height": 300
        },
        "id": "y28fmgs0bKHY",
        "outputId": "195b3f31-a11a-4cee-822b-25864bbeb171"
      },
      "execution_count": 16,
      "outputs": [
        {
          "output_type": "execute_result",
          "data": {
            "text/plain": [
              "   experience  test_score(out of 10)  interview_score(out of 10)  salary($)\n",
              "0           0                    8.0                           9      50000\n",
              "1           0                    8.0                           6      45000\n",
              "2           5                    6.0                           7      60000\n",
              "3           2                   10.0                          10      65000\n",
              "4           7                    9.0                           6      70000\n",
              "5           3                    7.0                          10      62000\n",
              "6          10                    8.0                           7      72000\n",
              "7          11                    7.0                           8      80000"
            ],
            "text/html": [
              "\n",
              "  <div id=\"df-75610d05-f2f3-4ebb-a30a-d7e846bc92c9\">\n",
              "    <div class=\"colab-df-container\">\n",
              "      <div>\n",
              "<style scoped>\n",
              "    .dataframe tbody tr th:only-of-type {\n",
              "        vertical-align: middle;\n",
              "    }\n",
              "\n",
              "    .dataframe tbody tr th {\n",
              "        vertical-align: top;\n",
              "    }\n",
              "\n",
              "    .dataframe thead th {\n",
              "        text-align: right;\n",
              "    }\n",
              "</style>\n",
              "<table border=\"1\" class=\"dataframe\">\n",
              "  <thead>\n",
              "    <tr style=\"text-align: right;\">\n",
              "      <th></th>\n",
              "      <th>experience</th>\n",
              "      <th>test_score(out of 10)</th>\n",
              "      <th>interview_score(out of 10)</th>\n",
              "      <th>salary($)</th>\n",
              "    </tr>\n",
              "  </thead>\n",
              "  <tbody>\n",
              "    <tr>\n",
              "      <th>0</th>\n",
              "      <td>0</td>\n",
              "      <td>8.0</td>\n",
              "      <td>9</td>\n",
              "      <td>50000</td>\n",
              "    </tr>\n",
              "    <tr>\n",
              "      <th>1</th>\n",
              "      <td>0</td>\n",
              "      <td>8.0</td>\n",
              "      <td>6</td>\n",
              "      <td>45000</td>\n",
              "    </tr>\n",
              "    <tr>\n",
              "      <th>2</th>\n",
              "      <td>5</td>\n",
              "      <td>6.0</td>\n",
              "      <td>7</td>\n",
              "      <td>60000</td>\n",
              "    </tr>\n",
              "    <tr>\n",
              "      <th>3</th>\n",
              "      <td>2</td>\n",
              "      <td>10.0</td>\n",
              "      <td>10</td>\n",
              "      <td>65000</td>\n",
              "    </tr>\n",
              "    <tr>\n",
              "      <th>4</th>\n",
              "      <td>7</td>\n",
              "      <td>9.0</td>\n",
              "      <td>6</td>\n",
              "      <td>70000</td>\n",
              "    </tr>\n",
              "    <tr>\n",
              "      <th>5</th>\n",
              "      <td>3</td>\n",
              "      <td>7.0</td>\n",
              "      <td>10</td>\n",
              "      <td>62000</td>\n",
              "    </tr>\n",
              "    <tr>\n",
              "      <th>6</th>\n",
              "      <td>10</td>\n",
              "      <td>8.0</td>\n",
              "      <td>7</td>\n",
              "      <td>72000</td>\n",
              "    </tr>\n",
              "    <tr>\n",
              "      <th>7</th>\n",
              "      <td>11</td>\n",
              "      <td>7.0</td>\n",
              "      <td>8</td>\n",
              "      <td>80000</td>\n",
              "    </tr>\n",
              "  </tbody>\n",
              "</table>\n",
              "</div>\n",
              "      <button class=\"colab-df-convert\" onclick=\"convertToInteractive('df-75610d05-f2f3-4ebb-a30a-d7e846bc92c9')\"\n",
              "              title=\"Convert this dataframe to an interactive table.\"\n",
              "              style=\"display:none;\">\n",
              "        \n",
              "  <svg xmlns=\"http://www.w3.org/2000/svg\" height=\"24px\"viewBox=\"0 0 24 24\"\n",
              "       width=\"24px\">\n",
              "    <path d=\"M0 0h24v24H0V0z\" fill=\"none\"/>\n",
              "    <path d=\"M18.56 5.44l.94 2.06.94-2.06 2.06-.94-2.06-.94-.94-2.06-.94 2.06-2.06.94zm-11 1L8.5 8.5l.94-2.06 2.06-.94-2.06-.94L8.5 2.5l-.94 2.06-2.06.94zm10 10l.94 2.06.94-2.06 2.06-.94-2.06-.94-.94-2.06-.94 2.06-2.06.94z\"/><path d=\"M17.41 7.96l-1.37-1.37c-.4-.4-.92-.59-1.43-.59-.52 0-1.04.2-1.43.59L10.3 9.45l-7.72 7.72c-.78.78-.78 2.05 0 2.83L4 21.41c.39.39.9.59 1.41.59.51 0 1.02-.2 1.41-.59l7.78-7.78 2.81-2.81c.8-.78.8-2.07 0-2.86zM5.41 20L4 18.59l7.72-7.72 1.47 1.35L5.41 20z\"/>\n",
              "  </svg>\n",
              "      </button>\n",
              "      \n",
              "  <style>\n",
              "    .colab-df-container {\n",
              "      display:flex;\n",
              "      flex-wrap:wrap;\n",
              "      gap: 12px;\n",
              "    }\n",
              "\n",
              "    .colab-df-convert {\n",
              "      background-color: #E8F0FE;\n",
              "      border: none;\n",
              "      border-radius: 50%;\n",
              "      cursor: pointer;\n",
              "      display: none;\n",
              "      fill: #1967D2;\n",
              "      height: 32px;\n",
              "      padding: 0 0 0 0;\n",
              "      width: 32px;\n",
              "    }\n",
              "\n",
              "    .colab-df-convert:hover {\n",
              "      background-color: #E2EBFA;\n",
              "      box-shadow: 0px 1px 2px rgba(60, 64, 67, 0.3), 0px 1px 3px 1px rgba(60, 64, 67, 0.15);\n",
              "      fill: #174EA6;\n",
              "    }\n",
              "\n",
              "    [theme=dark] .colab-df-convert {\n",
              "      background-color: #3B4455;\n",
              "      fill: #D2E3FC;\n",
              "    }\n",
              "\n",
              "    [theme=dark] .colab-df-convert:hover {\n",
              "      background-color: #434B5C;\n",
              "      box-shadow: 0px 1px 3px 1px rgba(0, 0, 0, 0.15);\n",
              "      filter: drop-shadow(0px 1px 2px rgba(0, 0, 0, 0.3));\n",
              "      fill: #FFFFFF;\n",
              "    }\n",
              "  </style>\n",
              "\n",
              "      <script>\n",
              "        const buttonEl =\n",
              "          document.querySelector('#df-75610d05-f2f3-4ebb-a30a-d7e846bc92c9 button.colab-df-convert');\n",
              "        buttonEl.style.display =\n",
              "          google.colab.kernel.accessAllowed ? 'block' : 'none';\n",
              "\n",
              "        async function convertToInteractive(key) {\n",
              "          const element = document.querySelector('#df-75610d05-f2f3-4ebb-a30a-d7e846bc92c9');\n",
              "          const dataTable =\n",
              "            await google.colab.kernel.invokeFunction('convertToInteractive',\n",
              "                                                     [key], {});\n",
              "          if (!dataTable) return;\n",
              "\n",
              "          const docLinkHtml = 'Like what you see? Visit the ' +\n",
              "            '<a target=\"_blank\" href=https://colab.research.google.com/notebooks/data_table.ipynb>data table notebook</a>'\n",
              "            + ' to learn more about interactive tables.';\n",
              "          element.innerHTML = '';\n",
              "          dataTable['output_type'] = 'display_data';\n",
              "          await google.colab.output.renderOutput(dataTable, element);\n",
              "          const docLink = document.createElement('div');\n",
              "          docLink.innerHTML = docLinkHtml;\n",
              "          element.appendChild(docLink);\n",
              "        }\n",
              "      </script>\n",
              "    </div>\n",
              "  </div>\n",
              "  "
            ]
          },
          "metadata": {},
          "execution_count": 16
        }
      ]
    },
    {
      "cell_type": "code",
      "source": [
        "df.info()"
      ],
      "metadata": {
        "colab": {
          "base_uri": "https://localhost:8080/"
        },
        "id": "xZXHq8LDbaz_",
        "outputId": "4343865f-1867-42d6-fad1-9ee9c5464af7"
      },
      "execution_count": 17,
      "outputs": [
        {
          "output_type": "stream",
          "name": "stdout",
          "text": [
            "<class 'pandas.core.frame.DataFrame'>\n",
            "RangeIndex: 8 entries, 0 to 7\n",
            "Data columns (total 4 columns):\n",
            " #   Column                      Non-Null Count  Dtype  \n",
            "---  ------                      --------------  -----  \n",
            " 0   experience                  8 non-null      int64  \n",
            " 1   test_score(out of 10)       8 non-null      float64\n",
            " 2   interview_score(out of 10)  8 non-null      int64  \n",
            " 3   salary($)                   8 non-null      int64  \n",
            "dtypes: float64(1), int64(3)\n",
            "memory usage: 384.0 bytes\n"
          ]
        }
      ]
    },
    {
      "cell_type": "code",
      "source": [
        "x = df.iloc[0:8 , 0:3]\n",
        "x.shape"
      ],
      "metadata": {
        "colab": {
          "base_uri": "https://localhost:8080/"
        },
        "id": "sy3qcQnCeb5I",
        "outputId": "1dbdc0a0-32b1-4960-d93b-68d1326302af"
      },
      "execution_count": 18,
      "outputs": [
        {
          "output_type": "execute_result",
          "data": {
            "text/plain": [
              "(8, 3)"
            ]
          },
          "metadata": {},
          "execution_count": 18
        }
      ]
    },
    {
      "cell_type": "code",
      "source": [
        "x= df.drop('salary($)',axis =1)    # either way we can split the features and target\n",
        "x.shape"
      ],
      "metadata": {
        "colab": {
          "base_uri": "https://localhost:8080/"
        },
        "id": "1PLEfNn0e6an",
        "outputId": "b5ece76c-4422-491e-f53c-a724d4020eea"
      },
      "execution_count": 19,
      "outputs": [
        {
          "output_type": "execute_result",
          "data": {
            "text/plain": [
              "(8, 3)"
            ]
          },
          "metadata": {},
          "execution_count": 19
        }
      ]
    },
    {
      "cell_type": "code",
      "source": [
        "y= df['salary($)']\n",
        "y.shape"
      ],
      "metadata": {
        "colab": {
          "base_uri": "https://localhost:8080/"
        },
        "id": "oANNdT8Af4SM",
        "outputId": "efe3ea1c-308c-4178-ad2f-8929e9de29fa"
      },
      "execution_count": 20,
      "outputs": [
        {
          "output_type": "execute_result",
          "data": {
            "text/plain": [
              "(8,)"
            ]
          },
          "metadata": {},
          "execution_count": 20
        }
      ]
    },
    {
      "cell_type": "code",
      "source": [
        "# split the data into training and test data\n",
        "from sklearn.model_selection import train_test_split\n",
        "xtrain , xtest , ytrain , ytest = train_test_split(x,y)"
      ],
      "metadata": {
        "id": "Ki1CH-jTgXgo"
      },
      "execution_count": 21,
      "outputs": []
    },
    {
      "cell_type": "code",
      "source": [
        "print(xtrain.shape)\n",
        "print(xtest.shape)\n",
        "print(ytrain.shape)\n",
        "print(ytest.shape)"
      ],
      "metadata": {
        "colab": {
          "base_uri": "https://localhost:8080/"
        },
        "id": "4zwxmooygtkZ",
        "outputId": "69e180e1-bd20-471d-c76f-af2975defeb1"
      },
      "execution_count": 22,
      "outputs": [
        {
          "output_type": "stream",
          "name": "stdout",
          "text": [
            "(6, 3)\n",
            "(2, 3)\n",
            "(6,)\n",
            "(2,)\n"
          ]
        }
      ]
    },
    {
      "cell_type": "code",
      "source": [
        "# lets build a model"
      ],
      "metadata": {
        "id": "g2Eyl5O_iD0J"
      },
      "execution_count": 23,
      "outputs": []
    },
    {
      "cell_type": "code",
      "source": [
        "from sklearn.linear_model import LinearRegression\n",
        "\n",
        "model = LinearRegression()"
      ],
      "metadata": {
        "id": "QI77F8J8iHFb"
      },
      "execution_count": 24,
      "outputs": []
    },
    {
      "cell_type": "code",
      "source": [
        "# fit the model\n",
        "\n",
        "model.fit(xtrain , ytrain)"
      ],
      "metadata": {
        "colab": {
          "base_uri": "https://localhost:8080/"
        },
        "id": "gt-x8dhiihzv",
        "outputId": "352ad3e5-5334-4891-8c27-06daa4e4396b"
      },
      "execution_count": 25,
      "outputs": [
        {
          "output_type": "execute_result",
          "data": {
            "text/plain": [
              "LinearRegression()"
            ]
          },
          "metadata": {},
          "execution_count": 25
        }
      ]
    },
    {
      "cell_type": "code",
      "source": [
        "# tets the model\n",
        "ypred = model.predict(xtest)"
      ],
      "metadata": {
        "id": "50JgR48qisNZ"
      },
      "execution_count": 26,
      "outputs": []
    },
    {
      "cell_type": "code",
      "source": [
        "#calculate the accuracy using R2\n",
        "\n",
        "from sklearn.metrics import r2_score\n",
        "r2result = r2_score(ytest, ypred)\n",
        "r2result"
      ],
      "metadata": {
        "colab": {
          "base_uri": "https://localhost:8080/"
        },
        "id": "n-byp2oPi9T6",
        "outputId": "4885302d-302f-472a-e199-76f50a2e2782"
      },
      "execution_count": 27,
      "outputs": [
        {
          "output_type": "execute_result",
          "data": {
            "text/plain": [
              "0.3814447081194211"
            ]
          },
          "metadata": {},
          "execution_count": 27
        }
      ]
    },
    {
      "cell_type": "code",
      "source": [
        "# create a list to fetch the accuracy result\n",
        "accuracy_list=[]\n",
        "for i in range(1000):\n",
        "  xtrain , xtest, ytrain , ytest = train_test_split(x,y,train_size=0.8 ,random_state=i)\n",
        "  model =LinearRegression()\n",
        "  model.fit(xtrain , ytrain)\n",
        "  ypred = model.predict(xtest)\n",
        "  r2result = r2_score(ytest, ypred)\n",
        "  accuracy_list.append(r2result)"
      ],
      "metadata": {
        "id": "h_Ka_ts7j0dm"
      },
      "execution_count": 28,
      "outputs": []
    },
    {
      "cell_type": "code",
      "source": [
        "accuracy_list"
      ],
      "metadata": {
        "id": "1YGdCNdtj26Y",
        "colab": {
          "base_uri": "https://localhost:8080/"
        },
        "outputId": "46cacdda-5bee-4438-cd33-083f7453779c"
      },
      "execution_count": 29,
      "outputs": [
        {
          "output_type": "execute_result",
          "data": {
            "text/plain": [
              "[0.3814447081194211,\n",
              " 0.8515192720986251,\n",
              " 0.8159486689885806,\n",
              " 0.924427136462572,\n",
              " 0.17760298275080622,\n",
              " 0.8515192720986248,\n",
              " 0.8167827818183632,\n",
              " -17.688208905655845,\n",
              " 0.9606461804676223,\n",
              " 0.9566786526224457,\n",
              " 0.3493545891913713,\n",
              " 0.38144470811942055,\n",
              " -15.877716374972685,\n",
              " 0.8159486689885809,\n",
              " 0.06266896871484517,\n",
              " 0.34935458919136975,\n",
              " 0.27310355973040124,\n",
              " -8.694392415972386,\n",
              " -0.11107260610819525,\n",
              " 0.8159486689885802,\n",
              " 0.9244271364625727,\n",
              " 0.8515192720986248,\n",
              " 0.8854262054139517,\n",
              " 0.17760298275080133,\n",
              " 0.9244271364625731,\n",
              " 0.9047826768488456,\n",
              " 0.856365786429019,\n",
              " 0.8515192720986253,\n",
              " 0.3814447081194211,\n",
              " 0.9566786526224456,\n",
              " 0.8854262054139518,\n",
              " 0.8159486689885805,\n",
              " 0.8830011998552887,\n",
              " -2.183874957833533,\n",
              " 0.9047826768488458,\n",
              " -17.68820890565591,\n",
              " 0.17760298275080277,\n",
              " -17.68820890565591,\n",
              " 0.8515192720986248,\n",
              " -9.575872458761951,\n",
              " 0.9566786526224458,\n",
              " 0.06266896871484462,\n",
              " 0.9321989859471912,\n",
              " 0.8563657864290184,\n",
              " -17.68820890565578,\n",
              " -17.688208905655884,\n",
              " 0.8830011998552881,\n",
              " 0.8967170402440576,\n",
              " -17.688208905655884,\n",
              " 0.8854262054139519,\n",
              " -0.11107260610819569,\n",
              " 0.27310355973040124,\n",
              " 0.8967170402440581,\n",
              " 0.7598139673064879,\n",
              " -15.877716374972685,\n",
              " 0.17760298275080133,\n",
              " 0.9566786526224459,\n",
              " 0.8854262054139515,\n",
              " 0.2731035597303979,\n",
              " 0.6874057436617749,\n",
              " 0.17760298275080444,\n",
              " 0.8159486689885812,\n",
              " -15.877716374972685,\n",
              " 0.06266896871484395,\n",
              " 0.6874057436617749,\n",
              " -8.69439241597241,\n",
              " 0.8167827818183624,\n",
              " 0.9606461804676223,\n",
              " 0.9321989859471912,\n",
              " -0.11107260610819214,\n",
              " 0.9321989859471912,\n",
              " 0.8830011998552881,\n",
              " 0.17760298275080444,\n",
              " -9.57587245876199,\n",
              " 0.17760298275080444,\n",
              " 0.2731035597303987,\n",
              " -0.7994281339341944,\n",
              " -17.688208905655845,\n",
              " -8.694392415972422,\n",
              " 0.8830011998552891,\n",
              " -3.2881576745143812,\n",
              " -17.688208905655884,\n",
              " 0.8186907726707165,\n",
              " 0.9566786526224458,\n",
              " 0.8563657864290188,\n",
              " -2.1838749578335164,\n",
              " 0.8967170402440581,\n",
              " -3.2881576745143803,\n",
              " -8.69439241597243,\n",
              " 0.8167827818183615,\n",
              " 0.8830011998552881,\n",
              " -8.694392415972422,\n",
              " -3.288157674514393,\n",
              " 0.8515192720986251,\n",
              " 0.932198985947191,\n",
              " 0.9244271364625729,\n",
              " 0.8186907726707161,\n",
              " 0.17760298275080288,\n",
              " 0.8186907726707161,\n",
              " 0.38144470811942055,\n",
              " 0.8159486689885812,\n",
              " 0.6874057436617749,\n",
              " 0.9566786526224458,\n",
              " 0.7598139673064878,\n",
              " 0.9606461804676223,\n",
              " 0.38144470811942255,\n",
              " -9.575872458761951,\n",
              " 0.17760298275080277,\n",
              " 0.06266896871484395,\n",
              " 0.27310355973039646,\n",
              " 0.27310355973040124,\n",
              " 0.9047826768488456,\n",
              " -2.183874957833533,\n",
              " 0.8854262054139518,\n",
              " 0.9321989859471912,\n",
              " 0.8159486689885812,\n",
              " 0.9606461804676222,\n",
              " -17.688208905655884,\n",
              " 0.17760298275080444,\n",
              " 0.9047826768488454,\n",
              " -9.575872458761971,\n",
              " 0.8563657864290194,\n",
              " 0.8854262054139517,\n",
              " -3.2881576745143812,\n",
              " 0.8563657864290184,\n",
              " 0.7598139673064876,\n",
              " 0.9244271364625722,\n",
              " -9.57587245876194,\n",
              " -3.2881576745143803,\n",
              " -8.694392415972422,\n",
              " 0.9606461804676223,\n",
              " 0.9606461804676223,\n",
              " 0.8167827818183615,\n",
              " -8.694392415972422,\n",
              " 0.9566786526224458,\n",
              " 0.27310355973040035,\n",
              " 0.7598139673064878,\n",
              " 0.8159486689885811,\n",
              " -8.69439241597243,\n",
              " 0.381444708119423,\n",
              " 0.34935458919136975,\n",
              " -0.11107260610819214,\n",
              " 0.818690772670716,\n",
              " 0.7598139673064876,\n",
              " 0.8830011998552881,\n",
              " -3.2881576745143875,\n",
              " -2.183874957833533,\n",
              " 0.8515192720986248,\n",
              " 0.7598139673064876,\n",
              " 0.8186907726707169,\n",
              " 0.9244271364625725,\n",
              " 0.9566786526224457,\n",
              " 0.9566786526224458,\n",
              " 0.38144470811942055,\n",
              " 0.9606461804676223,\n",
              " -9.575872458761951,\n",
              " 0.818690772670716,\n",
              " -2.1838749578335244,\n",
              " 0.17760298275080622,\n",
              " -17.688208905655845,\n",
              " -15.877716374972813,\n",
              " 0.6874057436617749,\n",
              " 0.7598139673064876,\n",
              " 0.9606461804676223,\n",
              " -8.694392415972422,\n",
              " -9.575872458761951,\n",
              " 0.27310355973039646,\n",
              " -2.1838749578335244,\n",
              " 0.9047826768488458,\n",
              " 0.8186907726707169,\n",
              " -3.288157674514399,\n",
              " -0.7994281339341973,\n",
              " 0.8186907726707167,\n",
              " 0.8830011998552881,\n",
              " 0.8967170402440581,\n",
              " -17.68820890565581,\n",
              " 0.8967170402440581,\n",
              " 0.6874057436617756,\n",
              " 0.8515192720986251,\n",
              " 0.9606461804676223,\n",
              " 0.7598139673064876,\n",
              " 0.7598139673064881,\n",
              " 0.17760298275080444,\n",
              " 0.8515192720986263,\n",
              " -17.68820890565591,\n",
              " 0.856365786429018,\n",
              " -2.1838749578335164,\n",
              " 0.9566786526224458,\n",
              " -0.11107260610819214,\n",
              " 0.8967170402440581,\n",
              " 0.9321989859471916,\n",
              " -17.688208905655852,\n",
              " -0.11107260610819525,\n",
              " -17.688208905655884,\n",
              " 0.8186907726707167,\n",
              " 0.7598139673064888,\n",
              " 0.8830011998552881,\n",
              " 0.9606461804676223,\n",
              " -8.694392415972422,\n",
              " 0.924427136462572,\n",
              " -0.7994281339341958,\n",
              " 0.3493545891913742,\n",
              " -17.688208905655916,\n",
              " -0.7994281339341931,\n",
              " 0.856365786429019,\n",
              " 0.9566786526224458,\n",
              " 0.9566786526224458,\n",
              " -8.69439241597241,\n",
              " 0.932198985947191,\n",
              " 0.17760298275080444,\n",
              " -3.288157674514375,\n",
              " 0.8854262054139518,\n",
              " 0.9566786526224458,\n",
              " -17.688208905655944,\n",
              " 0.856365786429018,\n",
              " 0.9321989859471912,\n",
              " -2.183874957833533,\n",
              " -0.7994281339341944,\n",
              " 0.27310355973040035,\n",
              " 0.381444708119423,\n",
              " 0.9566786526224458,\n",
              " 0.8167827818183615,\n",
              " 0.9566786526224459,\n",
              " 0.17760298275080288,\n",
              " 0.8563657864290184,\n",
              " 0.9321989859471909,\n",
              " -15.877716374972785,\n",
              " 0.9321989859471912,\n",
              " 0.27310355973040124,\n",
              " 0.8515192720986258,\n",
              " 0.9321989859471914,\n",
              " 0.06266896871484395,\n",
              " 0.9047826768488454,\n",
              " 0.6874057436617758,\n",
              " -2.1838749578335164,\n",
              " -9.575872458761951,\n",
              " 0.9047826768488456,\n",
              " 0.06266896871484462,\n",
              " 0.8167827818183624,\n",
              " 0.38144470811942055,\n",
              " 0.818690772670716,\n",
              " 0.9566786526224456,\n",
              " 0.9244271364625718,\n",
              " 0.7598139673064876,\n",
              " -15.877716374972685,\n",
              " 0.8186907726707167,\n",
              " -9.575872458761914,\n",
              " 0.3814447081194211,\n",
              " -0.11107260610819214,\n",
              " 0.9244271364625718,\n",
              " 0.17760298275080288,\n",
              " 0.6874057436617756,\n",
              " 0.7598139673064873,\n",
              " 0.9606461804676224,\n",
              " -9.575872458761959,\n",
              " 0.27310355973039957,\n",
              " -15.877716374972685,\n",
              " 0.9047826768488456,\n",
              " 0.9047826768488458,\n",
              " 0.27310355973040035,\n",
              " -0.11107260610819214,\n",
              " -2.183874957833533,\n",
              " 0.27310355973039935,\n",
              " 0.8515192720986253,\n",
              " 0.2731035597303971,\n",
              " 0.8159486689885808,\n",
              " 0.8563657864290188,\n",
              " 0.8167827818183631,\n",
              " 0.06266896871484395,\n",
              " 0.8830011998552881,\n",
              " -15.877716374972685,\n",
              " 0.3493545891913713,\n",
              " 0.8159486689885805,\n",
              " -15.877716374972735,\n",
              " 0.7598139673064873,\n",
              " -0.7994281339341931,\n",
              " 0.9606461804676225,\n",
              " 0.8830011998552881,\n",
              " -8.69439241597243,\n",
              " -2.18387495783352,\n",
              " -0.7994281339341958,\n",
              " 0.8967170402440576,\n",
              " 0.06266896871484462,\n",
              " 0.9047826768488456,\n",
              " 0.851519272098626,\n",
              " -9.575872458761951,\n",
              " 0.3814447081194181,\n",
              " -3.288157674514393,\n",
              " 0.17760298275080622,\n",
              " 0.8167827818183616,\n",
              " 0.8967170402440576,\n",
              " 0.8186907726707165,\n",
              " 0.9244271364625722,\n",
              " 0.9566786526224458,\n",
              " -8.694392415972422,\n",
              " 0.9321989859471912,\n",
              " -17.68820890565581,\n",
              " 0.9321989859471912,\n",
              " -9.575872458761951,\n",
              " 0.818690772670716,\n",
              " 0.9047826768488458,\n",
              " -2.1838749578335164,\n",
              " -17.68820890565597,\n",
              " 0.9244271364625725,\n",
              " -0.11107260610819214,\n",
              " 0.9244271364625722,\n",
              " 0.34935458919137274,\n",
              " 0.9606461804676223,\n",
              " -15.877716374972735,\n",
              " 0.6874057436617765,\n",
              " -17.68820890565591,\n",
              " 0.34935458919137274,\n",
              " 0.06266896871484462,\n",
              " -15.877716374972685,\n",
              " -2.183874957833533,\n",
              " 0.8167827818183638,\n",
              " 0.8967170402440581,\n",
              " -3.288157674514375,\n",
              " 0.17760298275080288,\n",
              " 0.8186907726707165,\n",
              " 0.9606461804676223,\n",
              " -0.7994281339341944,\n",
              " 0.3493545891913683,\n",
              " 0.8854262054139518,\n",
              " 0.8515192720986263,\n",
              " 0.6874057436617765,\n",
              " 0.856365786429018,\n",
              " -2.183874957833533,\n",
              " 0.8167827818183632,\n",
              " -0.7994281339341944,\n",
              " -0.7994281339341931,\n",
              " -9.57587245876194,\n",
              " 0.3814447081194211,\n",
              " -3.288157674514393,\n",
              " -0.11107260610819458,\n",
              " 0.856365786429018,\n",
              " -17.688208905655845,\n",
              " -2.183874957833533,\n",
              " 0.34935458919136975,\n",
              " 0.34935458919136975,\n",
              " 0.8167827818183637,\n",
              " 0.8830011998552881,\n",
              " -3.2881576745143812,\n",
              " -0.7994281339342046,\n",
              " -0.7994281339341958,\n",
              " 0.06266896871484462,\n",
              " 0.38144470811942055,\n",
              " -0.7994281339341944,\n",
              " 0.8830011998552887,\n",
              " 0.9606461804676223,\n",
              " 0.17760298275080288,\n",
              " -3.288157674514393,\n",
              " 0.9566786526224458,\n",
              " 0.8186907726707165,\n",
              " 0.9606461804676223,\n",
              " 0.8167827818183638,\n",
              " -17.68820890565591,\n",
              " -8.694392415972395,\n",
              " -0.7994281339342015,\n",
              " 0.9321989859471911,\n",
              " 0.8830011998552887,\n",
              " 0.8515192720986251,\n",
              " 0.8167827818183631,\n",
              " 0.8515192720986255,\n",
              " 0.9566786526224458,\n",
              " -2.1838749578335164,\n",
              " 0.9047826768488458,\n",
              " 0.9566786526224457,\n",
              " -15.877716374972685,\n",
              " 0.8854262054139518,\n",
              " -15.877716374972685,\n",
              " -2.1838749578335164,\n",
              " 0.8159486689885805,\n",
              " 0.8167827818183615,\n",
              " 0.8854262054139518,\n",
              " 0.9244271364625718,\n",
              " 0.8186907726707169,\n",
              " 0.8830011998552887,\n",
              " -0.7994281339341931,\n",
              " 0.9566786526224456,\n",
              " -3.288157674514393,\n",
              " 0.9606461804676223,\n",
              " -2.183874957833533,\n",
              " -15.877716374972685,\n",
              " 0.8515192720986251,\n",
              " -8.694392415972422,\n",
              " 0.3493545891913713,\n",
              " 0.9321989859471908,\n",
              " 0.9244271364625722,\n",
              " 0.9047826768488461,\n",
              " -2.183874957833533,\n",
              " 0.8167827818183624,\n",
              " -17.68820890565578,\n",
              " 0.8830011998552881,\n",
              " -17.688208905655944,\n",
              " 0.8830011998552881,\n",
              " 0.8967170402440581,\n",
              " 0.9321989859471912,\n",
              " 0.8167827818183615,\n",
              " 0.6874057436617749,\n",
              " 0.8167827818183631,\n",
              " 0.856365786429018,\n",
              " 0.9606461804676224,\n",
              " 0.856365786429019,\n",
              " 0.8167827818183631,\n",
              " 0.9566786526224458,\n",
              " 0.8830011998552881,\n",
              " 0.9047826768488456,\n",
              " -2.183874957833533,\n",
              " 0.8967170402440571,\n",
              " -9.57587245876199,\n",
              " -9.57587245876199,\n",
              " -3.2881576745143875,\n",
              " -8.694392415972422,\n",
              " 0.9606461804676222,\n",
              " 0.9244271364625725,\n",
              " 0.6874057436617749,\n",
              " 0.8167827818183631,\n",
              " 0.2731035597303987,\n",
              " -0.7994281339341944,\n",
              " -15.877716374972657,\n",
              " 0.818690772670717,\n",
              " 0.8830011998552881,\n",
              " 0.932198985947191,\n",
              " 0.8830011998552881,\n",
              " 0.8854262054139515,\n",
              " 0.9566786526224459,\n",
              " -15.8777163749727,\n",
              " 0.9244271364625722,\n",
              " 0.06266896871484462,\n",
              " 0.6874057436617756,\n",
              " -8.69439241597241,\n",
              " 0.8967170402440581,\n",
              " -8.694392415972422,\n",
              " 0.06266896871484395,\n",
              " -2.1838749578335164,\n",
              " 0.06266896871484462,\n",
              " 0.8167827818183632,\n",
              " 0.9606461804676224,\n",
              " 0.8167827818183615,\n",
              " 0.7598139673064878,\n",
              " 0.856365786429018,\n",
              " 0.9606461804676223,\n",
              " 0.17760298275079955,\n",
              " 0.8967170402440581,\n",
              " -0.11107260610819258,\n",
              " 0.8159486689885809,\n",
              " -0.7994281339341958,\n",
              " 0.3493545891913683,\n",
              " 0.8515192720986263,\n",
              " 0.7598139673064876,\n",
              " 0.34935458919137274,\n",
              " 0.9566786526224456,\n",
              " 0.8830011998552881,\n",
              " -15.877716374972685,\n",
              " 0.8967170402440576,\n",
              " -15.877716374972685,\n",
              " 0.9321989859471914,\n",
              " -0.7994281339341958,\n",
              " 0.9244271364625725,\n",
              " -15.877716374972685,\n",
              " 0.2731035597303987,\n",
              " 0.8830011998552881,\n",
              " 0.06266896871484395,\n",
              " 0.7598139673064884,\n",
              " 0.6874057436617756,\n",
              " 0.8563657864290184,\n",
              " 0.9566786526224459,\n",
              " 0.6874057436617765,\n",
              " 0.06266896871484462,\n",
              " 0.8563657864290184,\n",
              " -15.877716374972685,\n",
              " -2.1838749578335164,\n",
              " -0.11107260610819458,\n",
              " 0.06266896871484462,\n",
              " -0.11107260610819525,\n",
              " 0.8967170402440585,\n",
              " 0.8563657864290184,\n",
              " -8.69439241597243,\n",
              " 0.818690772670716,\n",
              " -8.69439241597243,\n",
              " 0.816782781818364,\n",
              " -8.69439241597244,\n",
              " 0.06266896871484462,\n",
              " -15.877716374972685,\n",
              " -0.11107260610819214,\n",
              " 0.06266896871484462,\n",
              " -17.688208905655884,\n",
              " 0.6874057436617749,\n",
              " 0.6874057436617756,\n",
              " 0.8830011998552892,\n",
              " 0.8854262054139518,\n",
              " 0.8186907726707161,\n",
              " 0.8167827818183623,\n",
              " 0.9606461804676223,\n",
              " 0.8186907726707169,\n",
              " -9.575872458761951,\n",
              " 0.8563657864290184,\n",
              " -2.1838749578335164,\n",
              " 0.6874057436617751,\n",
              " 0.17760298275080288,\n",
              " 0.27310355973039646,\n",
              " -17.688208905655884,\n",
              " -3.2881576745143875,\n",
              " -9.575872458761951,\n",
              " 0.9606461804676223,\n",
              " -9.575872458761914,\n",
              " -0.7994281339341958,\n",
              " 0.8515192720986248,\n",
              " 0.06266896871484462,\n",
              " -17.68820890565591,\n",
              " 0.8967170402440586,\n",
              " -0.11107260610818925,\n",
              " 0.8967170402440581,\n",
              " 0.856365786429018,\n",
              " 0.9606461804676223,\n",
              " -3.288157674514393,\n",
              " -0.11107260610819214,\n",
              " 0.6874057436617749,\n",
              " -2.183874957833533,\n",
              " -3.288157674514393,\n",
              " -9.57587245876199,\n",
              " 0.8830011998552881,\n",
              " -9.575872458761909,\n",
              " 0.8186907726707161,\n",
              " 0.856365786429019,\n",
              " 0.8186907726707167,\n",
              " 0.8186907726707167,\n",
              " 0.8854262054139519,\n",
              " -0.7994281339342015,\n",
              " 0.856365786429018,\n",
              " 0.932198985947191,\n",
              " 0.816782781818364,\n",
              " 0.8186907726707171,\n",
              " 0.27310355973039646,\n",
              " 0.8830011998552881,\n",
              " 0.956678652622446,\n",
              " 0.932198985947191,\n",
              " -3.288157674514393,\n",
              " -9.575872458761971,\n",
              " 0.8159486689885804,\n",
              " -17.68820890565597,\n",
              " 0.38144470811942255,\n",
              " 0.9047826768488461,\n",
              " 0.17760298275080288,\n",
              " 0.818690772670716,\n",
              " 0.06266896871484462,\n",
              " -9.575872458761909,\n",
              " 0.9047826768488461,\n",
              " 0.8854262054139518,\n",
              " -8.69439241597244,\n",
              " -8.69439241597243,\n",
              " 0.8186907726707162,\n",
              " -3.2881576745143812,\n",
              " 0.06266896871484462,\n",
              " 0.856365786429019,\n",
              " -15.877716374972685,\n",
              " -0.11107260610819747,\n",
              " -2.1838749578335244,\n",
              " -15.877716374972685,\n",
              " -9.575872458761982,\n",
              " 0.27310355973040124,\n",
              " 0.9244271364625725,\n",
              " 0.7598139673064884,\n",
              " -17.688208905655852,\n",
              " -2.1838749578335244,\n",
              " -0.7994281339341958,\n",
              " -17.688208905655884,\n",
              " 0.8515192720986251,\n",
              " 0.8167827818183632,\n",
              " 0.34935458919137274,\n",
              " -8.694392415972422,\n",
              " 0.3493545891913683,\n",
              " -0.11107260610819214,\n",
              " 0.7598139673064878,\n",
              " -9.575872458761928,\n",
              " 0.9606461804676223,\n",
              " 0.8167827818183631,\n",
              " 0.7598139673064878,\n",
              " 0.9566786526224458,\n",
              " -0.7994281339342015,\n",
              " 0.8186907726707169,\n",
              " 0.6874057436617749,\n",
              " -17.688208905655845,\n",
              " 0.7598139673064876,\n",
              " -17.688208905655884,\n",
              " -17.688208905655884,\n",
              " 0.06266896871484395,\n",
              " 0.8854262054139519,\n",
              " 0.8563657864290184,\n",
              " -15.877716374972685,\n",
              " 0.9566786526224457,\n",
              " -3.2881576745143812,\n",
              " 0.8830011998552881,\n",
              " 0.6874057436617749,\n",
              " 0.8186907726707169,\n",
              " 0.6874057436617765,\n",
              " 0.17760298275080133,\n",
              " -0.11107260610819192,\n",
              " 0.17760298275080288,\n",
              " -3.288157674514393,\n",
              " 0.34935458919137274,\n",
              " 0.8563657864290184,\n",
              " 0.932198985947191,\n",
              " -0.7994281339341931,\n",
              " 0.9321989859471913,\n",
              " 0.8515192720986241,\n",
              " 0.17760298275080133,\n",
              " 0.38144470811942055,\n",
              " -2.183874957833533,\n",
              " 0.8186907726707169,\n",
              " -3.2881576745143875,\n",
              " 0.9606461804676223,\n",
              " 0.815948668988581,\n",
              " 0.9606461804676223,\n",
              " 0.9566786526224457,\n",
              " 0.7598139673064881,\n",
              " 0.856365786429018,\n",
              " -0.7994281339341958,\n",
              " 0.9047826768488454,\n",
              " 0.9321989859471912,\n",
              " 0.7598139673064881,\n",
              " 0.8186907726707161,\n",
              " -9.575872458761928,\n",
              " 0.38144470811942055,\n",
              " 0.924427136462572,\n",
              " -9.575872458761971,\n",
              " 0.9606461804676223,\n",
              " 0.9321989859471916,\n",
              " 0.8186907726707169,\n",
              " -0.7994281339341931,\n",
              " -0.7994281339341944,\n",
              " -8.69439241597243,\n",
              " 0.06266896871484517,\n",
              " 0.8830011998552881,\n",
              " 0.8854262054139515,\n",
              " 0.8967170402440581,\n",
              " 0.17760298275080288,\n",
              " -0.7994281339341958,\n",
              " 0.9047826768488461,\n",
              " 0.38144470811942055,\n",
              " -3.2881576745143875,\n",
              " 0.9321989859471912,\n",
              " 0.9321989859471912,\n",
              " 0.8186907726707169,\n",
              " -15.877716374972685,\n",
              " -17.68820890565591,\n",
              " -3.288157674514393,\n",
              " -9.57587245876194,\n",
              " -9.57587245876194,\n",
              " 0.8167827818183607,\n",
              " 0.06266896871484462,\n",
              " 0.06266896871484395,\n",
              " 0.7598139673064883,\n",
              " -0.7994281339341944,\n",
              " 0.34935458919137563,\n",
              " -15.877716374972763,\n",
              " -0.11107260610819214,\n",
              " 0.34935458919137274,\n",
              " 0.8967170402440581,\n",
              " 0.8854262054139518,\n",
              " 0.06266896871484395,\n",
              " 0.8854262054139516,\n",
              " 0.9047826768488456,\n",
              " 0.34935458919136975,\n",
              " 0.8515192720986255,\n",
              " 0.8563657864290184,\n",
              " -2.183874957833533,\n",
              " 0.7598139673064876,\n",
              " 0.924427136462572,\n",
              " -9.57587245876199,\n",
              " -15.877716374972685,\n",
              " -9.57587245876194,\n",
              " 0.6874057436617764,\n",
              " -8.69439241597243,\n",
              " -8.69439241597243,\n",
              " 0.8854262054139518,\n",
              " -0.11107260610819258,\n",
              " 0.17760298275080288,\n",
              " 0.17760298275080133,\n",
              " 0.9244271364625725,\n",
              " 0.9047826768488456,\n",
              " 0.17760298275080133,\n",
              " -8.69439241597241,\n",
              " -2.183874957833533,\n",
              " -0.7994281339341944,\n",
              " -3.288157674514393,\n",
              " 0.856365786429018,\n",
              " -15.877716374972685,\n",
              " -8.694392415972422,\n",
              " 0.9606461804676223,\n",
              " 0.9244271364625718,\n",
              " -8.69439241597241,\n",
              " 0.856365786429018,\n",
              " 0.8515192720986253,\n",
              " 0.9047826768488463,\n",
              " -0.11107260610819258,\n",
              " 0.9321989859471906,\n",
              " -8.694392415972422,\n",
              " 0.34935458919136975,\n",
              " 0.8167827818183638,\n",
              " 0.34935458919137274,\n",
              " 0.8167827818183631,\n",
              " -17.688208905655873,\n",
              " -0.7994281339341944,\n",
              " 0.8186907726707167,\n",
              " -17.688208905655884,\n",
              " -17.68820890565578,\n",
              " 0.06266896871484395,\n",
              " 0.8830011998552881,\n",
              " 0.7598139673064878,\n",
              " -0.11107260610819214,\n",
              " -3.2881576745143812,\n",
              " 0.8830011998552887,\n",
              " 0.3814447081194211,\n",
              " 0.9321989859471913,\n",
              " -17.688208905655884,\n",
              " 0.38144470811942255,\n",
              " 0.8186907726707165,\n",
              " 0.27310355973039957,\n",
              " 0.6874057436617756,\n",
              " -8.69439241597243,\n",
              " 0.8854262054139518,\n",
              " 0.9047826768488456,\n",
              " 0.27310355973040035,\n",
              " 0.9606461804676223,\n",
              " -2.183874957833533,\n",
              " -9.575872458761982,\n",
              " -0.7994281339341931,\n",
              " 0.6874057436617756,\n",
              " 0.8830011998552881,\n",
              " 0.856365786429019,\n",
              " 0.3814447081194211,\n",
              " 0.9606461804676225,\n",
              " 0.177602982750798,\n",
              " 0.38144470811942055,\n",
              " 0.8186907726707167,\n",
              " 0.8515192720986253,\n",
              " -3.2881576745143812,\n",
              " -0.7994281339341931,\n",
              " 0.8563657864290193,\n",
              " -9.575872458761951,\n",
              " -0.7994281339341944,\n",
              " 0.932198985947191,\n",
              " 0.3814447081194211,\n",
              " -0.11107260610819525,\n",
              " 0.9566786526224459,\n",
              " 0.9047826768488458,\n",
              " -8.694392415972386,\n",
              " 0.27310355973039935,\n",
              " 0.06266896871484395,\n",
              " 0.8563657864290184,\n",
              " 0.818690772670716,\n",
              " 0.8167827818183632,\n",
              " 0.34935458919136975,\n",
              " -2.183874957833533,\n",
              " 0.34935458919137274,\n",
              " 0.7598139673064876,\n",
              " 0.27310355973040035,\n",
              " 0.856365786429019,\n",
              " 0.9606461804676222,\n",
              " 0.3493545891913713,\n",
              " 0.27310355973040124,\n",
              " 0.9047826768488456,\n",
              " 0.856365786429019,\n",
              " 0.9606461804676223,\n",
              " 0.17760298275080133,\n",
              " 0.9321989859471912,\n",
              " 0.9047826768488456,\n",
              " 0.6874057436617749,\n",
              " -15.877716374972657,\n",
              " 0.8167827818183615,\n",
              " 0.9321989859471912,\n",
              " 0.9606461804676223,\n",
              " 0.8967170402440585,\n",
              " 0.8830011998552881,\n",
              " 0.9606461804676223,\n",
              " 0.6874057436617749,\n",
              " -0.7994281339342015,\n",
              " 0.9244271364625718,\n",
              " -2.183874957833533,\n",
              " 0.9566786526224458,\n",
              " 0.9244271364625727,\n",
              " 0.17760298275079955,\n",
              " 0.856365786429018,\n",
              " -9.575872458761951,\n",
              " -3.288157674514405,\n",
              " 0.8967170402440585,\n",
              " 0.7598139673064876,\n",
              " 0.17760298275080133,\n",
              " -9.575872458761951,\n",
              " 0.9047826768488458,\n",
              " 0.8854262054139517,\n",
              " 0.9566786526224459,\n",
              " -2.1838749578335244,\n",
              " 0.8854262054139516,\n",
              " 0.7598139673064876,\n",
              " 0.8515192720986255,\n",
              " 0.9321989859471912,\n",
              " 0.17760298275080444,\n",
              " -15.877716374972685,\n",
              " -9.575872458761951,\n",
              " 0.8563657864290184,\n",
              " 0.9047826768488456,\n",
              " -0.7994281339341944,\n",
              " 0.8830011998552881,\n",
              " 0.9244271364625729,\n",
              " 0.9244271364625729,\n",
              " 0.27310355973040035,\n",
              " -2.1838749578335164,\n",
              " -0.7994281339341915,\n",
              " 0.27310355973039646,\n",
              " -0.11107260610819192,\n",
              " 0.06266896871484462,\n",
              " 0.8159486689885809,\n",
              " 0.8854262054139513,\n",
              " 0.8167827818183632,\n",
              " 0.8854262054139518,\n",
              " 0.8830011998552881,\n",
              " 0.34935458919137563,\n",
              " 0.6874057436617758,\n",
              " 0.8967170402440581,\n",
              " 0.9321989859471912,\n",
              " -15.877716374972685,\n",
              " 0.9606461804676223,\n",
              " 0.9244271364625729,\n",
              " -2.183874957833533,\n",
              " 0.7598139673064873,\n",
              " 0.8515192720986263,\n",
              " -8.69439241597243,\n",
              " 0.6874057436617749,\n",
              " 0.17760298275080133,\n",
              " 0.3814447081194211,\n",
              " -15.877716374972685,\n",
              " 0.9566786526224457,\n",
              " 0.3814447081194211,\n",
              " -0.11107260610819214,\n",
              " 0.38144470811942,\n",
              " 0.7598139673064884,\n",
              " 0.8186907726707167,\n",
              " 0.06266896871484462,\n",
              " 0.8186907726707167,\n",
              " 0.818690772670717,\n",
              " -3.2881576745143875,\n",
              " 0.8830011998552881,\n",
              " 0.9047826768488454,\n",
              " -3.288157674514393,\n",
              " 0.851519272098626,\n",
              " -9.575872458761921,\n",
              " 0.6874057436617765,\n",
              " 0.8854262054139521,\n",
              " -2.183874957833533,\n",
              " 0.9606461804676223,\n",
              " 0.9566786526224459,\n",
              " 0.8854262054139518,\n",
              " 0.8167827818183624,\n",
              " -15.877716374972657,\n",
              " -9.575872458761982,\n",
              " -2.183874957833533,\n",
              " -15.877716374972685,\n",
              " 0.2731035597303987,\n",
              " 0.8515192720986253,\n",
              " 0.8167827818183631,\n",
              " -15.877716374972685,\n",
              " 0.9047826768488456,\n",
              " -0.11107260610819214,\n",
              " 0.9321989859471912,\n",
              " 0.932198985947191,\n",
              " 0.6874057436617755,\n",
              " 0.3814447081194211,\n",
              " 0.932198985947191,\n",
              " 0.9321989859471906,\n",
              " 0.8186907726707169,\n",
              " 0.818690772670717,\n",
              " -15.877716374972685,\n",
              " 0.8854262054139518,\n",
              " 0.9606461804676223,\n",
              " -17.68820890565591,\n",
              " 0.9244271364625727,\n",
              " 0.8159486689885809,\n",
              " 0.8854262054139521,\n",
              " -0.7994281339341944,\n",
              " -17.688208905655845,\n",
              " 0.38144470811942055,\n",
              " 0.8515192720986251,\n",
              " 0.9606461804676223,\n",
              " 0.17760298275080277,\n",
              " 0.8186907726707167,\n",
              " -3.2881576745143875,\n",
              " -2.183874957833533,\n",
              " 0.17760298275080277,\n",
              " -2.183874957833533,\n",
              " -2.1838749578335412,\n",
              " 0.9321989859471909,\n",
              " 0.9606461804676223,\n",
              " 0.3814447081194211,\n",
              " 0.8515192720986263,\n",
              " 0.924427136462572,\n",
              " 0.9606461804676223,\n",
              " 0.9321989859471916,\n",
              " 0.856365786429018,\n",
              " 0.17760298275080288,\n",
              " -15.877716374972685,\n",
              " 0.8854262054139518,\n",
              " 0.8854262054139518,\n",
              " -9.575872458761951,\n",
              " 0.9566786526224459,\n",
              " 0.8854262054139511,\n",
              " 0.8159486689885805,\n",
              " 0.8967170402440581,\n",
              " 0.8167827818183632,\n",
              " 0.06266896871484395,\n",
              " 0.8830011998552881,\n",
              " -9.575872458761951,\n",
              " 0.06266896871484462,\n",
              " -8.694392415972422,\n",
              " 0.8830011998552881,\n",
              " 0.8159486689885812,\n",
              " 0.9244271364625722,\n",
              " -3.288157674514393,\n",
              " 0.9606461804676224,\n",
              " 0.8167827818183623,\n",
              " 0.17760298275080277,\n",
              " 0.856365786429019,\n",
              " 0.8186907726707169,\n",
              " -8.69439241597241,\n",
              " 0.8854262054139518,\n",
              " 0.17760298275080288,\n",
              " 0.8967170402440585,\n",
              " 0.17760298275079955,\n",
              " -8.694392415972422,\n",
              " 0.7598139673064876,\n",
              " 0.9321989859471914,\n",
              " 0.8854262054139515,\n",
              " 0.8563657864290188,\n",
              " 0.8515192720986248,\n",
              " -0.11107260610819303,\n",
              " 0.34935458919136686,\n",
              " 0.8186907726707169,\n",
              " 0.9244271364625725,\n",
              " -8.694392415972422,\n",
              " 0.8854262054139517,\n",
              " 0.9321989859471914,\n",
              " 0.17760298275080133,\n",
              " 0.8563657864290184,\n",
              " 0.3493545891913713,\n",
              " 0.6874057436617749,\n",
              " 0.7598139673064876,\n",
              " -8.694392415972422,\n",
              " -8.69439241597243,\n",
              " -9.575872458761971,\n",
              " 0.9606461804676223,\n",
              " 0.17760298275080288,\n",
              " 0.17760298275080133,\n",
              " 0.06266896871484462,\n",
              " -3.288157674514375,\n",
              " 0.9606461804676223,\n",
              " 0.8159486689885802,\n",
              " 0.9321989859471909,\n",
              " -2.183874957833533,\n",
              " 0.8854262054139519,\n",
              " -17.68820890565578,\n",
              " -15.877716374972685,\n",
              " -17.688208905655994,\n",
              " -2.1838749578335244,\n",
              " 0.177602982750798,\n",
              " 0.9606461804676222,\n",
              " 0.8186907726707167,\n",
              " 0.9321989859471904,\n",
              " 0.6874057436617765,\n",
              " 0.2731035597303987,\n",
              " 0.2731035597303979,\n",
              " 0.9321989859471914,\n",
              " 0.3814447081194211,\n",
              " -15.877716374972657,\n",
              " 0.9047826768488458,\n",
              " 0.06266896871484462,\n",
              " -8.69439241597243,\n",
              " 0.9566786526224458,\n",
              " -2.1838749578335164,\n",
              " 0.8830011998552887,\n",
              " 0.7598139673064873,\n",
              " -8.69439241597241,\n",
              " -8.69439241597243,\n",
              " 0.9047826768488454,\n",
              " 0.27310355973040124,\n",
              " 0.8167827818183615,\n",
              " 0.816782781818364,\n",
              " 0.27310355973039935,\n",
              " 0.38144470811942055,\n",
              " -17.688208905655944,\n",
              " -17.68820890565578,\n",
              " 0.924427136462572,\n",
              " 0.9566786526224458,\n",
              " -2.183874957833537,\n",
              " -15.877716374972685,\n",
              " 0.27310355973040035,\n",
              " 0.9047826768488454,\n",
              " 0.8167827818183631,\n",
              " 0.3493545891913713]"
            ]
          },
          "metadata": {},
          "execution_count": 29
        }
      ]
    },
    {
      "cell_type": "code",
      "source": [
        "np.max(accuracy_list)"
      ],
      "metadata": {
        "colab": {
          "base_uri": "https://localhost:8080/"
        },
        "id": "inT_euiPkJi2",
        "outputId": "72ad1557-aa52-4bee-8e39-1ea52bfb2474"
      },
      "execution_count": 30,
      "outputs": [
        {
          "output_type": "execute_result",
          "data": {
            "text/plain": [
              "0.9606461804676225"
            ]
          },
          "metadata": {},
          "execution_count": 30
        }
      ]
    },
    {
      "cell_type": "code",
      "source": [
        "# to find the index of the max value\n",
        "np.argmax(accuracy_list)"
      ],
      "metadata": {
        "colab": {
          "base_uri": "https://localhost:8080/"
        },
        "id": "9psekIjRkRW6",
        "outputId": "54541515-757a-4167-cd2e-9910299696fc"
      },
      "execution_count": 31,
      "outputs": [
        {
          "output_type": "execute_result",
          "data": {
            "text/plain": [
              "276"
            ]
          },
          "metadata": {},
          "execution_count": 31
        }
      ]
    },
    {
      "cell_type": "code",
      "source": [
        "# the previous result shows the random value 276 has the max accuracy value , so create model with that value\n",
        "\n",
        "xtrain , xtest, ytrain , ytest = train_test_split(x,y,train_size=0.8 ,random_state=276)\n",
        "model =LinearRegression()\n",
        "model.fit(xtrain , ytrain)\n",
        "ypred = model.predict(xtest)\n",
        "r2result = r2_score(ytest, ypred)\n",
        "r2result"
      ],
      "metadata": {
        "colab": {
          "base_uri": "https://localhost:8080/"
        },
        "id": "lMAmO1zol93n",
        "outputId": "9d5464e8-512b-4704-f159-5ddf434f23c4"
      },
      "execution_count": 32,
      "outputs": [
        {
          "output_type": "execute_result",
          "data": {
            "text/plain": [
              "0.9606461804676225"
            ]
          },
          "metadata": {},
          "execution_count": 32
        }
      ]
    },
    {
      "cell_type": "code",
      "source": [
        "# test the model with your own value   sample 1\n",
        "model.predict([[2,9,6]])"
      ],
      "metadata": {
        "colab": {
          "base_uri": "https://localhost:8080/"
        },
        "id": "wbBLa5jXmocX",
        "outputId": "c22b5579-ded4-4964-a62f-c38e240548a5"
      },
      "execution_count": 33,
      "outputs": [
        {
          "output_type": "stream",
          "name": "stderr",
          "text": [
            "/usr/local/lib/python3.7/dist-packages/sklearn/base.py:451: UserWarning: X does not have valid feature names, but LinearRegression was fitted with feature names\n",
            "  \"X does not have valid feature names, but\"\n"
          ]
        },
        {
          "output_type": "execute_result",
          "data": {
            "text/plain": [
              "array([54023.42770408])"
            ]
          },
          "metadata": {},
          "execution_count": 33
        }
      ]
    },
    {
      "cell_type": "code",
      "source": [
        "# test the model with your own value   sample 2\n",
        "model.predict([[12,10,10]])"
      ],
      "metadata": {
        "colab": {
          "base_uri": "https://localhost:8080/"
        },
        "id": "4NEJtQaam0UW",
        "outputId": "b0c40df1-2ce7-48fb-9a81-b5176376e2b2"
      },
      "execution_count": 34,
      "outputs": [
        {
          "output_type": "stream",
          "name": "stderr",
          "text": [
            "/usr/local/lib/python3.7/dist-packages/sklearn/base.py:451: UserWarning: X does not have valid feature names, but LinearRegression was fitted with feature names\n",
            "  \"X does not have valid feature names, but\"\n"
          ]
        },
        {
          "output_type": "execute_result",
          "data": {
            "text/plain": [
              "array([90648.84841286])"
            ]
          },
          "metadata": {},
          "execution_count": 34
        }
      ]
    },
    {
      "cell_type": "code",
      "source": [
        "# to save this model and test anyday anytime\n",
        "# this model needs to be saved to a file\n",
        "import joblib\n",
        "joblib.dump(model , 'multilinear-salary.pkl')"
      ],
      "metadata": {
        "colab": {
          "base_uri": "https://localhost:8080/"
        },
        "id": "pMzIcWY3nDxU",
        "outputId": "e3298266-c8e7-41d6-b443-df2569b85a8a"
      },
      "execution_count": 35,
      "outputs": [
        {
          "output_type": "execute_result",
          "data": {
            "text/plain": [
              "['multilinear-salary.pkl']"
            ]
          },
          "metadata": {},
          "execution_count": 35
        }
      ]
    },
    {
      "cell_type": "code",
      "source": [
        "# how to use the saved model later\n",
        "# first load the model to your environment\n",
        "mymodel = joblib.load('/content/multilinear-salary.pkl' )"
      ],
      "metadata": {
        "id": "khozGd9wohYR"
      },
      "execution_count": 36,
      "outputs": []
    },
    {
      "cell_type": "code",
      "source": [
        "mymodel.predict([[12,10,10]])  # test your model"
      ],
      "metadata": {
        "colab": {
          "base_uri": "https://localhost:8080/"
        },
        "id": "LO1o3XQsonBo",
        "outputId": "bedac714-1f12-4f63-c3e8-3a94477dd359"
      },
      "execution_count": 37,
      "outputs": [
        {
          "output_type": "stream",
          "name": "stderr",
          "text": [
            "/usr/local/lib/python3.7/dist-packages/sklearn/base.py:451: UserWarning: X does not have valid feature names, but LinearRegression was fitted with feature names\n",
            "  \"X does not have valid feature names, but\"\n"
          ]
        },
        {
          "output_type": "execute_result",
          "data": {
            "text/plain": [
              "array([90648.84841286])"
            ]
          },
          "metadata": {},
          "execution_count": 37
        }
      ]
    }
  ]
}